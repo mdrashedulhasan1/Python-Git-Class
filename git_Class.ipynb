{
  "nbformat": 4,
  "nbformat_minor": 0,
  "metadata": {
    "colab": {
      "name": "git_Class.ipynb",
      "provenance": [],
      "authorship_tag": "ABX9TyPrTc5OrPO3orcNFdy6Gt2U",
      "include_colab_link": true
    },
    "kernelspec": {
      "name": "python3",
      "display_name": "Python 3"
    },
    "language_info": {
      "name": "python"
    }
  },
  "cells": [
    {
      "cell_type": "markdown",
      "metadata": {
        "id": "view-in-github",
        "colab_type": "text"
      },
      "source": [
        "<a href=\"https://colab.research.google.com/github/mdrashedulhasan1/Python-Git-Class/blob/main/git_Class.ipynb\" target=\"_parent\"><img src=\"https://colab.research.google.com/assets/colab-badge.svg\" alt=\"Open In Colab\"/></a>"
      ]
    },
    {
      "cell_type": "code",
      "execution_count": 13,
      "metadata": {
        "colab": {
          "base_uri": "https://localhost:8080/"
        },
        "id": "UrQjFil1IJs4",
        "outputId": "be2c20ab-6024-42f1-c985-561ca0fe9ebb"
      },
      "outputs": [
        {
          "output_type": "stream",
          "name": "stdout",
          "text": [
            "Year:3000\n",
            "Not leap year\n"
          ]
        }
      ],
      "source": [
        "# salary = int(input(\"Salary:\"))\n",
        "# if salary == 3500:\n",
        "#   print(\"I want to join this job!\")\n",
        "# else:\n",
        "#   print(\"I don't want to join this job\")\n",
        "\n",
        "# num = int(input(\"Input any number:\"))\n",
        "# if num%2 == 0:\n",
        "#   print(\"Even Number\")\n",
        "# else:\n",
        "#   print(\"Odd number\")\n",
        "\n",
        "# age = int(input(\"Enter your age:\"))\n",
        "# if age>=18:\n",
        "#   if age>30:\n",
        "#     print(\"Ticket price 5k\")\n",
        "#   elif age>=25:\n",
        "#     print(\"Ticket price 4.5k\")\n",
        "#   elif age>=20:\n",
        "#     print(\"Ticket price 4k\")\n",
        "#   else:\n",
        "#     print(\"Ticket price 3.5k\")\n",
        "# else:\n",
        "#   print(\"Sorry! you can't buy Ticket\")\n",
        "\n",
        "#Leap Year\n",
        "# year = int(input(\"Year:\"))\n",
        "# if year%4 == 0:\n",
        "#   if year%100==0 and year%400==0 :\n",
        "#     print(\"Leap year\")\n",
        "#   else:\n",
        "#     print(\"Not leap year\")\n",
        "# else:\n",
        "#   print(\"Not leap year\")"
      ]
    }
  ]
}